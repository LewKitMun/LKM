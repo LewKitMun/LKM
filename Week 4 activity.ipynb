{
 "cells": [
  {
   "cell_type": "markdown",
   "id": "9eb5c48c",
   "metadata": {},
   "source": [
    "#Suggest two ways and write codes to display two images simultaneously. \n",
    "\n",
    "#The two images are a color image and its corresponding grayscale image."
   ]
  },
  {
   "cell_type": "code",
   "execution_count": 51,
   "id": "a884a731",
   "metadata": {},
   "outputs": [],
   "source": [
    "import numpy as np\n",
    "import matplotlib as mb\n",
    "import cv2 as cv"
   ]
  },
  {
   "cell_type": "code",
   "execution_count": 52,
   "id": "defaa08c",
   "metadata": {},
   "outputs": [
    {
     "data": {
      "text/plain": [
       "True"
      ]
     },
     "execution_count": 52,
     "metadata": {},
     "output_type": "execute_result"
    }
   ],
   "source": [
    "import sys\n",
    "# Python 3.7 is required\n",
    "assert sys.version_info >= (3,7)\n",
    "\n",
    "import cv2 as cv\n",
    "import numpy as np\n",
    "\n",
    "# For reproducibility,\n",
    "np.random.seed(99)\n",
    "\n",
    "# Make sure that optimization is enabled\n",
    "if not cv.useOptimized():\n",
    "    cv.setUseOptimized(True)\n",
    "\n",
    "cv.useOptimized()"
   ]
  },
  {
   "cell_type": "code",
   "execution_count": 4,
   "id": "95fea10c",
   "metadata": {},
   "outputs": [],
   "source": [
    "# showing both images written in the same line of command\n",
    "img = cv.imread('soccer.jpg')\n",
    "gray = cv.imread('soccer.jpg', 0)\n",
    "\n",
    "cv.imshow('color', img)\n",
    "cv.imshow('grayscale', gray)\n",
    "cv.waitKey(0)\n",
    "cv.destroyAllWindows()"
   ]
  },
  {
   "cell_type": "code",
   "execution_count": 7,
   "id": "35937345",
   "metadata": {},
   "outputs": [],
   "source": [
    "# concatenate both images into one image and show the image\n",
    "img = cv.imread('soccer.jpg')\n",
    "gray = cv.imread('soccer.jpg', 0)\n",
    "\n",
    "#due to gray scale images have only 2 dimensions normal images have three\n",
    "#dimensions, therefore we convert the gray scale image back to a 3\n",
    "#dimensional format(BGR color space) using COLOR_GRAY2BGR\n",
    "\n",
    "gray = cv.cvtColor(gray, cv.COLOR_GRAY2BGR)\n",
    "\n",
    "image = np.concatenate((img,gray), axis = 1)\n",
    "\n",
    "cv.imshow('image', image)\n",
    "cv.waitKey(0)\n",
    "cv.destroyAllWindows()"
   ]
  },
  {
   "cell_type": "markdown",
   "id": "d4869f3f",
   "metadata": {},
   "source": [
    "Write codes that performs the following:\n",
    "\n",
    "Load the video “img_pexels.mp4” into the Python environment, resize it and display the videos with smaller frames (The frames can be of any size, as long as it is smaller). You can specify an arbitrary frame rate.\n",
    "\n",
    "Save it as a separate files: “smaller_img_pexels.avi” or \"smaller_img_pexels.mp4\""
   ]
  },
  {
   "cell_type": "code",
   "execution_count": 54,
   "id": "f9b3964a",
   "metadata": {},
   "outputs": [
    {
     "name": "stdout",
     "output_type": "stream",
     "text": [
      "1080.0\n",
      "1920.0\n",
      "60.0\n"
     ]
    }
   ],
   "source": [
    "#Check for width, height and fps\n",
    "cap = cv.VideoCapture('img_pexels.mp4')\n",
    "print(cap.get(cv.CAP_PROP_FRAME_WIDTH))\n",
    "print(cap.get(cv.CAP_PROP_FRAME_HEIGHT))\n",
    "print(cap.get(cv.CAP_PROP_FPS))\n",
    "\n",
    "if not cap.isOpened():\n",
    "    print(\"Unable to create video\")\n",
    "\n",
    "while cap.isOpened():\n",
    "    ret, frame = cap.read()\n",
    "    \n",
    "    if not ret:\n",
    "        print(\"Can't receive frame.\")\n",
    "        break\n",
    "    \n",
    "    cv.imshow('frame', frame)\n",
    "    if cv.waitKey(1) & 0xFF == 27:\n",
    "        break\n",
    "\n",
    "cap.release()\n",
    "cv.destroyAllWindows()"
   ]
  },
  {
   "cell_type": "code",
   "execution_count": 11,
   "id": "1646a1e5",
   "metadata": {},
   "outputs": [],
   "source": [
    "# Original Width = 1080, Height = 1920, fps = 60\n",
    "# Resize to Width = 1024, Height = 768, fps = 60\n",
    "cap = cv.VideoCapture('img_pexels.mp4')\n",
    "\n",
    "#create a place for saving resized video(in avi format)\n",
    "fourcc = cv.VideoWriter_fourcc(*'XVID')\n",
    "resized = cv.VideoWriter('smaller_img_pexels.avi',fourcc, 60, (1024,768))\n",
    "\n",
    "while True:\n",
    "    ret, frame = cap.read()\n",
    "    if ret == True:\n",
    "        x = cv.resize(frame,(1024,768))\n",
    "        resized.write(x)\n",
    "    else:\n",
    "        break\n",
    "\n",
    "cap.release()\n",
    "resized.release()\n",
    "cv.destroyAllWindows()"
   ]
  },
  {
   "cell_type": "code",
   "execution_count": 13,
   "id": "dfa0b50e",
   "metadata": {},
   "outputs": [
    {
     "name": "stdout",
     "output_type": "stream",
     "text": [
      "1024.0\n",
      "768.0\n",
      "60.0\n"
     ]
    }
   ],
   "source": [
    "cap = cv.VideoCapture('smaller_img_pexels.avi')\n",
    "print(cap.get(cv.CAP_PROP_FRAME_WIDTH))\n",
    "print(cap.get(cv.CAP_PROP_FRAME_HEIGHT))\n",
    "print(cap.get(cv.CAP_PROP_FPS))\n",
    "\n",
    "if not cap.isOpened():\n",
    "    print(\"Unable to create video\")\n",
    "\n",
    "while cap.isOpened():\n",
    "    ret, frame = cap.read()\n",
    "    \n",
    "    if not ret:\n",
    "        print(\"Can't receive frame.\")\n",
    "        break\n",
    "    \n",
    "    cv.imshow('frame', frame)\n",
    "    if cv.waitKey(1) & 0xFF == 27:\n",
    "        break\n",
    "\n",
    "cap.release()\n",
    "cv.destroyAllWindows()"
   ]
  },
  {
   "cell_type": "markdown",
   "id": "99424c90",
   "metadata": {},
   "source": [
    "Create a random noise color and grayscale image."
   ]
  },
  {
   "cell_type": "code",
   "execution_count": 53,
   "id": "f384bd85",
   "metadata": {},
   "outputs": [],
   "source": [
    "#Create a 1000x1000 2D matrix and convert the matrix into BGR colour space\n",
    "img = np.zeros((1000, 1000), dtype = np.uint8)\n",
    "img_rgb = cv.cvtColor(img, cv.COLOR_GRAY2BGR)"
   ]
  },
  {
   "cell_type": "code",
   "execution_count": 72,
   "id": "09ba9af0",
   "metadata": {},
   "outputs": [],
   "source": [
    "#randomize the values based on normal distribution\n",
    "#use img_rgb that is converted to BGR colour space to create noise with colour\n",
    "random_noise_color_image = np.random.normal(0, 1, img_rgb.shape)\n",
    "#use img to form an image that remains as a gray scale image with noise\n",
    "random_noise_grayscale_image = np.random.normal(0, 1, img.shape)\n",
    "\n",
    "cv.imshow('random_noise_color_image', random_noise_color_image)\n",
    "cv.imshow('random_noise_grayscale_image', random_noise_grayscale_image)\n",
    "cv.waitKey(0)\n",
    "cv.destroyAllWindows()"
   ]
  },
  {
   "cell_type": "code",
   "execution_count": null,
   "id": "29b49b01",
   "metadata": {},
   "outputs": [],
   "source": []
  }
 ],
 "metadata": {
  "kernelspec": {
   "display_name": "Python 3 (ipykernel)",
   "language": "python",
   "name": "python3"
  },
  "language_info": {
   "codemirror_mode": {
    "name": "ipython",
    "version": 3
   },
   "file_extension": ".py",
   "mimetype": "text/x-python",
   "name": "python",
   "nbconvert_exporter": "python",
   "pygments_lexer": "ipython3",
   "version": "3.9.12"
  }
 },
 "nbformat": 4,
 "nbformat_minor": 5
}
