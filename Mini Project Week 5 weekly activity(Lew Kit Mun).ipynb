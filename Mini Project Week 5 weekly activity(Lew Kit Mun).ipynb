{
 "cells": [
  {
   "cell_type": "code",
   "execution_count": 3,
   "id": "7f9c701a",
   "metadata": {},
   "outputs": [],
   "source": [
    "import numpy as np\n",
    "import matplotlib.pyplot as plt\n",
    "import cv2 as cv\n",
    "import imutils as im"
   ]
  },
  {
   "cell_type": "code",
   "execution_count": 2,
   "id": "ed38b295",
   "metadata": {},
   "outputs": [
    {
     "data": {
      "text/plain": [
       "True"
      ]
     },
     "execution_count": 2,
     "metadata": {},
     "output_type": "execute_result"
    }
   ],
   "source": [
    "import sys\n",
    "# Python 3.7 is required\n",
    "assert sys.version_info >= (3,7)\n",
    "\n",
    "import cv2 as cv\n",
    "import numpy as np\n",
    "\n",
    "# Make sure that optimization is enabled\n",
    "if not cv.useOptimized():\n",
    "    cv.setUseOptimized(True)\n",
    "\n",
    "cv.useOptimized()"
   ]
  },
  {
   "cell_type": "markdown",
   "id": "261967e7",
   "metadata": {},
   "source": [
    "# Convert the code chunk found under section Divide an image into smaller patches using cropping into a function with the following signature:\n",
    "\n",
    "# crop_grid(img, num_horizontal_grid, num_vertical_grid, line_color)"
   ]
  },
  {
   "cell_type": "code",
   "execution_count": 6,
   "id": "50cc01ac",
   "metadata": {},
   "outputs": [],
   "source": [
    "def crop_grid(img, num_horizontal_grid, num_vertical_grid, line_color):\n",
    "    \n",
    "    img_copy = img.copy()\n",
    "\n",
    "    height, width = img.shape[:2]\n",
    "\n",
    "    # M and N are basically number of pixels per patch\n",
    "    M, N = int(height/num_horizontal_grid), int(width/num_vertical_grid)\n",
    "\n",
    "    x1, y1 = 0, 0\n",
    "\n",
    "    for y in range(0, height, M):\n",
    "        for x in range(0, width, N):\n",
    "    #         if (height - y) < M or (width - x) < N:\n",
    "    #             break\n",
    "\n",
    "            y1 = y + M    # lower right coordinate that will be used to construct rectangle\n",
    "            x1 = x + N\n",
    "\n",
    "            # Check whether patch lower right coordinate exceeds image height and width\n",
    "            if x1 >= width and y1 >= height:\n",
    "                x1 = width - 1\n",
    "                y1 = height - 1\n",
    "                tile = img[y:height, x:width]\n",
    "                cv.rectangle(img_copy, (x, y), (x1, y1), line_color, 1)\n",
    "                cv.imshow('tile', tile)\n",
    "            # When patch lower right y-coordinate exceeds patch height\n",
    "            elif y1 >= height:\n",
    "                y1 = height - 1\n",
    "                cv.rectangle(img_copy, (x, y), (x1, y1), line_color, 1)\n",
    "\n",
    "            # When patch lower right x-coordinate exceeds patch width\n",
    "            elif x1 >= width:\n",
    "                x1 = width - 1\n",
    "                cv.rectangle(img_copy, (x, y), (x1, y1), line_color, 1)\n",
    "\n",
    "            else:\n",
    "                cv.rectangle(img_copy, (x, y), (x1, y1), line_color, 1)\n",
    "\n",
    "    return img_copy"
   ]
  },
  {
   "cell_type": "code",
   "execution_count": 7,
   "id": "8b846d04",
   "metadata": {},
   "outputs": [],
   "source": [
    "# use lena.jfif, 3x3 grid, green line color.\n",
    "cv.imshow('cropped image', crop_grid(cv.imread('lena.jfif'), 3, 3, (0, 255, 0)))\n",
    "cv.waitKey(0)\n",
    "cv.destroyAllWindows()"
   ]
  },
  {
   "cell_type": "markdown",
   "id": "9e1214ce",
   "metadata": {},
   "source": [
    "Display image sequences of smooth transition of two images with different values of \n",
    "α.\n",
    "\n",
    "Refer to code in section \"Image blending\". Use \"lena.jfif\" and \"coins.jfif\" as the base images."
   ]
  },
  {
   "cell_type": "code",
   "execution_count": 59,
   "id": "293c3c17",
   "metadata": {},
   "outputs": [],
   "source": [
    "# from the result, we can observe that img1(lena.jfif) would be more visible and img2(coin.jfif) would be more \n",
    "# transparent when alpha is larger. When alpha is smaller, img2 would be more visible and img1 would be more transparent\n",
    "img1 = cv.imread('lena.jfif')\n",
    "img2 = cv.imread('coins.jfif')\n",
    "\n",
    "new_shape = img1.shape[:2]\n",
    "img2 = cv.resize(img2, new_shape)\n",
    "\n",
    "dst1 = cv.addWeighted(img1, 0.25, img2, 0.25, 0)\n",
    "dst2 = cv.addWeighted(img1, 0.75, img2, 0.25, 0)\n",
    "\n",
    "cv.imshow('Alpha = 0.25', dst1)\n",
    "cv.imshow('Alpha = 0.75', dst2)\n",
    "cv.waitKey(0)\n",
    "cv.destroyAllWindows()"
   ]
  },
  {
   "cell_type": "markdown",
   "id": "92287be9",
   "metadata": {},
   "source": [
    "Rotate image by 45 degrees without cropping the sides of the image. (Hint: There are 2 strategies to tackle these problems). Use \"lena.jfif\" as the input image."
   ]
  },
  {
   "cell_type": "code",
   "execution_count": 8,
   "id": "54f522b6",
   "metadata": {},
   "outputs": [],
   "source": [
    "img = cv.imread('lena.jfif')\n",
    "rotate_img = im.rotate_bound(img, -45)\n",
    "\n",
    "cv.imshow('rotated img', rotate_img)\n",
    "cv.waitKey(0)\n",
    "cv.destroyAllWindows()"
   ]
  },
  {
   "cell_type": "markdown",
   "id": "14a351df",
   "metadata": {},
   "source": [
    "Use the images with titles: \"flower.jfif\" and \"native-bee.png\". I want to put flower above an image."
   ]
  },
  {
   "cell_type": "code",
   "execution_count": 101,
   "id": "09d74cce",
   "metadata": {},
   "outputs": [],
   "source": [
    "flower = cv.imread('flower.jfif')\n",
    "native_bee = cv.imread('native-bee.png')\n",
    "\n",
    "roi_flower = flower[38:120, 90:175]\n",
    "\n",
    "flower_region = native_bee[65:155, 90:180]\n",
    "reshaped_flower = cv.resize(roi_flower, flower_region.shape[:2])\n",
    "\n",
    "dst = cv.bitwise_or(flower_region, reshaped_flower)\n",
    "\n",
    "native_bee[65:155, 90:180] = dst\n",
    "\n",
    "cv.imshow('flower bee', native_bee)\n",
    "cv.waitKey(0)\n",
    "cv.destroyAllWindows()"
   ]
  },
  {
   "cell_type": "code",
   "execution_count": null,
   "id": "c09aef4a",
   "metadata": {},
   "outputs": [],
   "source": []
  }
 ],
 "metadata": {
  "kernelspec": {
   "display_name": "Python 3 (ipykernel)",
   "language": "python",
   "name": "python3"
  },
  "language_info": {
   "codemirror_mode": {
    "name": "ipython",
    "version": 3
   },
   "file_extension": ".py",
   "mimetype": "text/x-python",
   "name": "python",
   "nbconvert_exporter": "python",
   "pygments_lexer": "ipython3",
   "version": "3.9.12"
  }
 },
 "nbformat": 4,
 "nbformat_minor": 5
}
